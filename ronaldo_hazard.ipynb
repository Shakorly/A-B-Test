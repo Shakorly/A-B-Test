{
  "nbformat": 4,
  "nbformat_minor": 0,
  "metadata": {
    "colab": {
      "provenance": [],
      "gpuType": "T4",
      "mount_file_id": "1ccKRz9-hWJ9aNBeHqSfWsYdqyer_W1EK",
      "authorship_tag": "ABX9TyOLBcRDsf6Yx0iw7rwQ0Cvx",
      "include_colab_link": true
    },
    "kernelspec": {
      "name": "python3",
      "display_name": "Python 3"
    },
    "language_info": {
      "name": "python"
    },
    "accelerator": "GPU"
  },
  "cells": [
    {
      "cell_type": "markdown",
      "metadata": {
        "id": "view-in-github",
        "colab_type": "text"
      },
      "source": [
        "<a href=\"https://colab.research.google.com/github/Shakorly/A-B-Test/blob/main/ronaldo_hazard.ipynb\" target=\"_parent\"><img src=\"https://colab.research.google.com/assets/colab-badge.svg\" alt=\"Open In Colab\"/></a>"
      ]
    },
    {
      "cell_type": "code",
      "execution_count": null,
      "metadata": {
        "colab": {
          "base_uri": "https://localhost:8080/"
        },
        "id": "ZgOxBK7CMhH2",
        "outputId": "9049b5a6-7085-4472-f712-ef337c512f68"
      },
      "outputs": [
        {
          "output_type": "stream",
          "name": "stdout",
          "text": [
            "Found 223 images belonging to 2 classes.\n",
            "Found 60 images belonging to 2 classes.\n",
            "Downloading data from https://storage.googleapis.com/tensorflow/keras-applications/resnet/resnet50_weights_tf_dim_ordering_tf_kernels_notop.h5\n",
            "94765736/94765736 [==============================] - 1s 0us/step\n",
            "Epoch 1/10\n",
            "7/7 [==============================] - 81s 11s/step - loss: 1.3919 - accuracy: 0.4664 - val_loss: 1.0672 - val_accuracy: 0.5000\n",
            "Epoch 2/10\n",
            "7/7 [==============================] - 60s 9s/step - loss: 0.8158 - accuracy: 0.5605 - val_loss: 0.8104 - val_accuracy: 0.5000\n",
            "Epoch 3/10\n",
            "7/7 [==============================] - 61s 9s/step - loss: 0.7504 - accuracy: 0.5471 - val_loss: 0.8305 - val_accuracy: 0.5000\n",
            "Epoch 4/10\n",
            "7/7 [==============================] - 68s 10s/step - loss: 0.7049 - accuracy: 0.5247 - val_loss: 0.7062 - val_accuracy: 0.5667\n",
            "Epoch 5/10\n",
            "7/7 [==============================] - 61s 9s/step - loss: 0.6481 - accuracy: 0.6099 - val_loss: 0.7084 - val_accuracy: 0.6000\n",
            "Epoch 6/10\n",
            "7/7 [==============================] - 68s 10s/step - loss: 0.6175 - accuracy: 0.6547 - val_loss: 0.7202 - val_accuracy: 0.6000\n",
            "Epoch 7/10\n",
            "7/7 [==============================] - 61s 9s/step - loss: 0.6171 - accuracy: 0.6413 - val_loss: 0.7525 - val_accuracy: 0.5167\n",
            "Epoch 8/10\n",
            "7/7 [==============================] - 61s 9s/step - loss: 0.6229 - accuracy: 0.6413 - val_loss: 0.8372 - val_accuracy: 0.4667\n",
            "Epoch 9/10\n",
            "7/7 [==============================] - 68s 10s/step - loss: 0.6238 - accuracy: 0.5919 - val_loss: 0.7832 - val_accuracy: 0.5167\n",
            "Epoch 10/10\n",
            "7/7 [==============================] - 61s 9s/step - loss: 0.6053 - accuracy: 0.6592 - val_loss: 0.6977 - val_accuracy: 0.5667\n"
          ]
        },
        {
          "output_type": "stream",
          "name": "stderr",
          "text": [
            "/usr/local/lib/python3.10/dist-packages/keras/src/engine/training.py:3103: UserWarning: You are saving your model as an HDF5 file via `model.save()`. This file format is considered legacy. We recommend using instead the native Keras format, e.g. `model.save('my_model.keras')`.\n",
            "  saving_api.save_model(\n"
          ]
        }
      ],
      "source": [
        "import tensorflow as tf\n",
        "from tensorflow.keras.preprocessing.image import ImageDataGenerator\n",
        "from tensorflow.keras.applications import ResNet50\n",
        "from tensorflow.keras.layers import Dense, GlobalAveragePooling2D\n",
        "from tensorflow.keras.models import Model\n",
        "\n",
        "# Data augmentation and preprocessing\n",
        "train_datagen = ImageDataGenerator(rescale=1./255, validation_split=0.2)\n",
        "\n",
        "train_generator = train_datagen.flow_from_directory(\n",
        "    '/content/drive/MyDrive/2_way_image_classification/image_modelling/test_data',  # Update with your dataset path\n",
        "    target_size=(224, 224),\n",
        "    batch_size=32,\n",
        "    class_mode='categorical',\n",
        "    subset='training'\n",
        ")\n",
        "\n",
        "validation_generator = train_datagen.flow_from_directory(\n",
        "    '/content/drive/MyDrive/2_way_image_classification/image_modelling/validate_data',  # Update with your dataset path\n",
        "    target_size=(224, 224),\n",
        "    batch_size=32,\n",
        "    class_mode='categorical',\n",
        "    subset='validation'\n",
        ")\n",
        "\n",
        "# Load pre-trained model and add custom layers\n",
        "base_model = ResNet50(weights='imagenet', include_top=False, input_shape=(224, 224, 3))\n",
        "x = base_model.output\n",
        "x = GlobalAveragePooling2D()(x)\n",
        "x = Dense(1024, activation='relu')(x)\n",
        "predictions = Dense(2, activation='softmax')(x)  # We have 2 classes: Ronaldo and Hazard\n",
        "\n",
        "model = Model(inputs=base_model.input, outputs=predictions)\n",
        "\n",
        "# Freeze the layers of the base model\n",
        "for layer in base_model.layers:\n",
        "    layer.trainable = False\n",
        "\n",
        "# Compile the model\n",
        "model.compile(optimizer='adam', loss='categorical_crossentropy', metrics=['accuracy'])\n",
        "\n",
        "# Train the model\n",
        "model.fit(\n",
        "    train_generator,\n",
        "    epochs=10,\n",
        "    validation_data=validation_generator\n",
        ")\n",
        "\n",
        "# Save the model\n",
        "model.save('player_classification_model.h5')\n"
      ]
    },
    {
      "cell_type": "code",
      "source": [
        "import tensorflow as tf\n",
        "from tensorflow.keras.preprocessing.image import ImageDataGenerator\n",
        "from tensorflow.keras.applications import ResNet50\n",
        "from tensorflow.keras.models import Sequential\n",
        "from tensorflow.keras.layers import Dense, GlobalAveragePooling2D, Dropout\n",
        "\n",
        "# Load the data\n",
        "train_datagen = ImageDataGenerator(\n",
        "    rescale=1./255,\n",
        "    rotation_range=20,\n",
        "    width_shift_range=0.2,\n",
        "    height_shift_range=0.2,\n",
        "    shear_range=0.2,\n",
        "    zoom_range=0.2,\n",
        "    horizontal_flip=True,\n",
        "    fill_mode='nearest',\n",
        "    validation_split=0.2\n",
        ")\n",
        "\n",
        "train_generator = train_datagen.flow_from_directory(\n",
        "    '/content/drive/MyDrive/2_way_image_classification/image_modelling/test_data',  # Update with your dataset path\n",
        "    target_size=(224, 224),\n",
        "    batch_size=32,\n",
        "    class_mode='categorical',\n",
        "    subset='training'\n",
        ")\n",
        "\n",
        "validation_generator = train_datagen.flow_from_directory(\n",
        "    '/content/drive/MyDrive/2_way_image_classification/image_modelling/validate_data',  # Update with your dataset path\n",
        "    target_size=(224, 224),\n",
        "    batch_size=32,\n",
        "    class_mode='categorical',\n",
        "    subset='validation'\n",
        ")\n",
        "\n",
        "# Load the ResNet50 model\n",
        "base_model = ResNet50(weights='imagenet', include_top=False, input_shape=(224, 224, 3))\n",
        "\n",
        "# Make the top layers trainable\n",
        "base_model.trainable = True\n",
        "fine_tune_at = len(base_model.layers) - 20\n",
        "for layer in base_model.layers[:fine_tune_at]:\n",
        "    layer.trainable = False\n",
        "\n",
        "# Build the model\n",
        "model = Sequential([\n",
        "    base_model,\n",
        "    GlobalAveragePooling2D(),\n",
        "    Dropout(0.5),\n",
        "    Dense(2, activation='softmax')\n",
        "])\n",
        "\n",
        "# Compile the model\n",
        "model.compile(optimizer=tf.keras.optimizers.Adam(learning_rate=0.0001),\n",
        "              loss='categorical_crossentropy',\n",
        "              metrics=['accuracy'])\n",
        "\n",
        "# Train the model with early stopping\n",
        "early_stopping = tf.keras.callbacks.EarlyStopping(monitor='val_loss', patience=5, restore_best_weights=True)\n",
        "\n",
        "history = model.fit(\n",
        "    train_generator,\n",
        "    epochs = 20,\n",
        "    validation_data=validation_generator,\n",
        "    callbacks=[early_stopping]\n",
        ")\n",
        "\n",
        "# Save the model\n",
        "model.save('player_classification_model.h5')\n"
      ],
      "metadata": {
        "colab": {
          "base_uri": "https://localhost:8080/"
        },
        "id": "1l_COk9fTlb4",
        "outputId": "91cda060-ede0-459d-c417-b1400aa386b8"
      },
      "execution_count": null,
      "outputs": [
        {
          "output_type": "stream",
          "name": "stdout",
          "text": [
            "Found 223 images belonging to 2 classes.\n",
            "Found 60 images belonging to 2 classes.\n",
            "Downloading data from https://storage.googleapis.com/tensorflow/keras-applications/resnet/resnet50_weights_tf_dim_ordering_tf_kernels_notop.h5\n",
            "94765736/94765736 [==============================] - 1s 0us/step\n",
            "Epoch 1/20\n",
            "7/7 [==============================] - 83s 10s/step - loss: 0.7660 - accuracy: 0.5291 - val_loss: 0.6817 - val_accuracy: 0.5000\n",
            "Epoch 2/20\n",
            "7/7 [==============================] - 7s 1s/step - loss: 0.5994 - accuracy: 0.7085 - val_loss: 0.6755 - val_accuracy: 0.5333\n",
            "Epoch 3/20\n",
            "7/7 [==============================] - 6s 875ms/step - loss: 0.5146 - accuracy: 0.7623 - val_loss: 0.7386 - val_accuracy: 0.5000\n",
            "Epoch 4/20\n",
            "7/7 [==============================] - 6s 884ms/step - loss: 0.5258 - accuracy: 0.7354 - val_loss: 0.7360 - val_accuracy: 0.5000\n",
            "Epoch 5/20\n",
            "7/7 [==============================] - 7s 1s/step - loss: 0.4048 - accuracy: 0.8072 - val_loss: 0.7590 - val_accuracy: 0.5000\n",
            "Epoch 6/20\n",
            "7/7 [==============================] - 5s 764ms/step - loss: 0.4253 - accuracy: 0.8072 - val_loss: 0.7670 - val_accuracy: 0.5000\n",
            "Epoch 7/20\n",
            "7/7 [==============================] - 7s 1s/step - loss: 0.3999 - accuracy: 0.8251 - val_loss: 0.7851 - val_accuracy: 0.5000\n"
          ]
        },
        {
          "output_type": "stream",
          "name": "stderr",
          "text": [
            "/usr/local/lib/python3.10/dist-packages/keras/src/engine/training.py:3103: UserWarning: You are saving your model as an HDF5 file via `model.save()`. This file format is considered legacy. We recommend using instead the native Keras format, e.g. `model.save('my_model.keras')`.\n",
            "  saving_api.save_model(\n"
          ]
        }
      ]
    },
    {
      "cell_type": "code",
      "source": [],
      "metadata": {
        "id": "njHVP5FaXb29"
      },
      "execution_count": null,
      "outputs": []
    }
  ]
}